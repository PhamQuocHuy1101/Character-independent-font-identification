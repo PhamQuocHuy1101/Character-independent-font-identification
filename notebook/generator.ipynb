{
 "cells": [
  {
   "cell_type": "code",
   "execution_count": 1,
   "id": "3199475e",
   "metadata": {},
   "outputs": [],
   "source": [
    "import os\n",
    "import numpy as np\n",
    "import pandas as pd\n",
    "import math\n",
    "import random\n",
    "from tqdm.auto import tqdm"
   ]
  },
  {
   "cell_type": "code",
   "execution_count": 66,
   "id": "afe54024",
   "metadata": {},
   "outputs": [],
   "source": [
    "random.seed(1)\n",
    "np.random.seed(1)"
   ]
  },
  {
   "cell_type": "code",
   "execution_count": 69,
   "id": "fc8a1a54",
   "metadata": {},
   "outputs": [
    {
     "data": {
      "application/vnd.jupyter.widget-view+json": {
       "model_id": "7ec0e9fa5962461d8172dbeac872be9e",
       "version_major": 2,
       "version_minor": 0
      },
      "text/plain": [
       "  0%|          | 0/1062 [00:00<?, ?it/s]"
      ]
     },
     "metadata": {},
     "output_type": "display_data"
    },
    {
     "name": "stdout",
     "output_type": "stream",
     "text": [
      "140184 140184 140184\n"
     ]
    }
   ],
   "source": [
    "def generate_pair(csv_file, out_file):\n",
    "    train_df = pd.read_csv(csv_file)\n",
    "    font_sample = train_df.font_label.value_counts()\n",
    "    min_combine = min(font_sample)\n",
    "    n_combine = math.comb(min_combine, 2)\n",
    "    \n",
    "    sample_1 = []\n",
    "    sample_2 = []\n",
    "    labels = [] # 0: same, 1: diff\n",
    "    for i in tqdm(font_sample.index):\n",
    "        fonts = train_df[train_df.font_label == i].path.to_list()\n",
    "\n",
    "        # choose same\n",
    "        for x1 in range(min_combine):\n",
    "            sample_1.extend([fonts[x1]] * len(range(x1 + 1, min_combine)))\n",
    "            for x2 in range(x1 + 1, min_combine):\n",
    "                sample_2.append(fonts[-x2])\n",
    "        labels.extend([0] * n_combine)\n",
    "\n",
    "        # random diff\n",
    "        diff_fonts = train_df[train_df != i].path.to_list()\n",
    "        sample_1.extend(random.choices(fonts, k = n_combine))\n",
    "        sample_2.extend(random.choices(diff_fonts, k = n_combine))\n",
    "        labels.extend([1] * n_combine)\n",
    "\n",
    "    print(len(sample_1), len(sample_2), len(labels))\n",
    "    df = pd.DataFrame({\n",
    "        'sample_1': sample_1,\n",
    "        'sample_2': sample_2,\n",
    "        'lables': labels\n",
    "    })\n",
    "\n",
    "    df.to_csv(out_file, index = False)\n",
    "    \n",
    "generate_pair('../data/test_font_all.csv', '../data/test_pair_font_all.csv')"
   ]
  },
  {
   "cell_type": "code",
   "execution_count": 86,
   "id": "866f47bd",
   "metadata": {},
   "outputs": [
    {
     "name": "stdout",
     "output_type": "stream",
     "text": [
      "7\n",
      "7\n",
      "1\n",
      "5\n",
      "9\n",
      "7\n",
      "7\n",
      "1\n",
      "5\n",
      "9\n"
     ]
    },
    {
     "data": {
      "text/plain": [
       "(None, None)"
      ]
     },
     "execution_count": 86,
     "metadata": {},
     "output_type": "execute_result"
    }
   ],
   "source": [
    "def f():\n",
    "    random.seed(0)\n",
    "    for i in range(5):\n",
    "        print(random.randint(1, 10))\n",
    "        \n",
    "f(), f()"
   ]
  },
  {
   "cell_type": "code",
   "execution_count": 82,
   "id": "3f2bc5c9",
   "metadata": {},
   "outputs": [
    {
     "data": {
      "text/plain": [
       "1"
      ]
     },
     "execution_count": 82,
     "metadata": {},
     "output_type": "execute_result"
    }
   ],
   "source": [
    "random.randint(1, 10)"
   ]
  },
  {
   "cell_type": "code",
   "execution_count": null,
   "id": "fcd116ed",
   "metadata": {},
   "outputs": [],
   "source": []
  }
 ],
 "metadata": {
  "kernelspec": {
   "display_name": "Python 3",
   "language": "python",
   "name": "python3"
  },
  "language_info": {
   "codemirror_mode": {
    "name": "ipython",
    "version": 3
   },
   "file_extension": ".py",
   "mimetype": "text/x-python",
   "name": "python",
   "nbconvert_exporter": "python",
   "pygments_lexer": "ipython3",
   "version": "3.8.8"
  }
 },
 "nbformat": 4,
 "nbformat_minor": 5
}
