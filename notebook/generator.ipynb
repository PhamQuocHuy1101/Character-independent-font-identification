{
 "cells": [
  {
   "cell_type": "code",
   "execution_count": 1,
   "id": "3199475e",
   "metadata": {},
   "outputs": [],
   "source": [
    "import os\n",
    "import numpy as np\n",
    "import pandas as pd"
   ]
  },
  {
   "cell_type": "code",
   "execution_count": 3,
   "id": "afe54024",
   "metadata": {},
   "outputs": [
    {
     "data": {
      "text/html": [
       "<div>\n",
       "<style scoped>\n",
       "    .dataframe tbody tr th:only-of-type {\n",
       "        vertical-align: middle;\n",
       "    }\n",
       "\n",
       "    .dataframe tbody tr th {\n",
       "        vertical-align: top;\n",
       "    }\n",
       "\n",
       "    .dataframe thead th {\n",
       "        text-align: right;\n",
       "    }\n",
       "</style>\n",
       "<table border=\"1\" class=\"dataframe\">\n",
       "  <thead>\n",
       "    <tr style=\"text-align: right;\">\n",
       "      <th></th>\n",
       "      <th>path</th>\n",
       "      <th>font_label</th>\n",
       "      <th>style_label</th>\n",
       "    </tr>\n",
       "  </thead>\n",
       "  <tbody>\n",
       "    <tr>\n",
       "      <th>0</th>\n",
       "      <td>murecho/extralight/p_murecho_extralight.png</td>\n",
       "      <td>611</td>\n",
       "      <td>1</td>\n",
       "    </tr>\n",
       "    <tr>\n",
       "      <th>1</th>\n",
       "      <td>ballet_28pt/regular/X_ballet_28pt_regular.png</td>\n",
       "      <td>100</td>\n",
       "      <td>12</td>\n",
       "    </tr>\n",
       "    <tr>\n",
       "      <th>2</th>\n",
       "      <td>petrona/extrabolditalic/N_petrona_extraboldita...</td>\n",
       "      <td>720</td>\n",
       "      <td>6</td>\n",
       "    </tr>\n",
       "    <tr>\n",
       "      <th>3</th>\n",
       "      <td>eczar/semibold/q_eczar_semibold.png</td>\n",
       "      <td>317</td>\n",
       "      <td>17</td>\n",
       "    </tr>\n",
       "    <tr>\n",
       "      <th>4</th>\n",
       "      <td>dmmono/medium/6_dmmono_medium.png</td>\n",
       "      <td>297</td>\n",
       "      <td>4</td>\n",
       "    </tr>\n",
       "    <tr>\n",
       "      <th>...</th>\n",
       "      <td>...</td>\n",
       "      <td>...</td>\n",
       "      <td>...</td>\n",
       "    </tr>\n",
       "    <tr>\n",
       "      <th>158894</th>\n",
       "      <td>bodonimoda_48pt/italic/7_bodonimoda_48pt_itali...</td>\n",
       "      <td>161</td>\n",
       "      <td>11</td>\n",
       "    </tr>\n",
       "    <tr>\n",
       "      <th>158895</th>\n",
       "      <td>genos/extrabold/U_genos_extrabold.png</td>\n",
       "      <td>405</td>\n",
       "      <td>16</td>\n",
       "    </tr>\n",
       "    <tr>\n",
       "      <th>158896</th>\n",
       "      <td>trispace_semicondensed/medium/9_trispace_semic...</td>\n",
       "      <td>980</td>\n",
       "      <td>4</td>\n",
       "    </tr>\n",
       "    <tr>\n",
       "      <th>158897</th>\n",
       "      <td>baloo2/bold/a_baloo2_bold.png</td>\n",
       "      <td>103</td>\n",
       "      <td>2</td>\n",
       "    </tr>\n",
       "    <tr>\n",
       "      <th>158898</th>\n",
       "      <td>montaguslab_24pt/bold/O_montaguslab_24pt_bold.png</td>\n",
       "      <td>579</td>\n",
       "      <td>2</td>\n",
       "    </tr>\n",
       "  </tbody>\n",
       "</table>\n",
       "<p>158899 rows × 3 columns</p>\n",
       "</div>"
      ],
      "text/plain": [
       "                                                     path  font_label  \\\n",
       "0             murecho/extralight/p_murecho_extralight.png         611   \n",
       "1           ballet_28pt/regular/X_ballet_28pt_regular.png         100   \n",
       "2       petrona/extrabolditalic/N_petrona_extraboldita...         720   \n",
       "3                     eczar/semibold/q_eczar_semibold.png         317   \n",
       "4                       dmmono/medium/6_dmmono_medium.png         297   \n",
       "...                                                   ...         ...   \n",
       "158894  bodonimoda_48pt/italic/7_bodonimoda_48pt_itali...         161   \n",
       "158895              genos/extrabold/U_genos_extrabold.png         405   \n",
       "158896  trispace_semicondensed/medium/9_trispace_semic...         980   \n",
       "158897                      baloo2/bold/a_baloo2_bold.png         103   \n",
       "158898  montaguslab_24pt/bold/O_montaguslab_24pt_bold.png         579   \n",
       "\n",
       "        style_label  \n",
       "0                 1  \n",
       "1                12  \n",
       "2                 6  \n",
       "3                17  \n",
       "4                 4  \n",
       "...             ...  \n",
       "158894           11  \n",
       "158895           16  \n",
       "158896            4  \n",
       "158897            2  \n",
       "158898            2  \n",
       "\n",
       "[158899 rows x 3 columns]"
      ]
     },
     "execution_count": 3,
     "metadata": {},
     "output_type": "execute_result"
    }
   ],
   "source": [
    "train_df = pd.read_csv('../data/train_font_all.csv')\n",
    "train_df"
   ]
  },
  {
   "cell_type": "code",
   "execution_count": 5,
   "id": "77902e0c",
   "metadata": {},
   "outputs": [
    {
     "data": {
      "text/plain": [
       "976     759\n",
       "138     759\n",
       "485     759\n",
       "1029    759\n",
       "953     759\n",
       "       ... \n",
       "343      42\n",
       "549      42\n",
       "805      42\n",
       "933      42\n",
       "1023     42\n",
       "Name: font_label, Length: 1062, dtype: int64"
      ]
     },
     "execution_count": 5,
     "metadata": {},
     "output_type": "execute_result"
    }
   ],
   "source": [
    "train_df.font_label.value_counts()"
   ]
  },
  {
   "cell_type": "code",
   "execution_count": null,
   "id": "6e4f8617",
   "metadata": {},
   "outputs": [],
   "source": []
  }
 ],
 "metadata": {
  "kernelspec": {
   "display_name": "Python 3",
   "language": "python",
   "name": "python3"
  },
  "language_info": {
   "codemirror_mode": {
    "name": "ipython",
    "version": 3
   },
   "file_extension": ".py",
   "mimetype": "text/x-python",
   "name": "python",
   "nbconvert_exporter": "python",
   "pygments_lexer": "ipython3",
   "version": "3.8.8"
  }
 },
 "nbformat": 4,
 "nbformat_minor": 5
}
