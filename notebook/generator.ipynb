{
 "cells": [
  {
   "cell_type": "code",
   "execution_count": 6,
   "id": "3199475e",
   "metadata": {},
   "outputs": [],
   "source": [
    "import os\n",
    "import numpy as np\n",
    "import pandas as pd\n",
    "import math\n",
    "import random\n",
    "from tqdm.auto import tqdm"
   ]
  },
  {
   "cell_type": "code",
   "execution_count": 66,
   "id": "afe54024",
   "metadata": {},
   "outputs": [],
   "source": [
    "random.seed(1)\n",
    "np.random.seed(1)"
   ]
  },
  {
   "cell_type": "code",
   "execution_count": 10,
   "id": "fc8a1a54",
   "metadata": {},
   "outputs": [
    {
     "name": "stdout",
     "output_type": "stream",
     "text": [
      "12 66\n"
     ]
    }
   ],
   "source": [
    "def generate_pair(csv_file, out_file):\n",
    "    train_df = pd.read_csv(csv_file)\n",
    "    font_sample = train_df.font_label.value_counts()\n",
    "    min_combine = min(font_sample)\n",
    "    n_combine = math.comb(min_combine, 2)\n",
    "    print(min_combine, n_combine)\n",
    "    return\n",
    "    \n",
    "    sample_1 = []\n",
    "    sample_2 = []\n",
    "    labels = [] # 0: same, 1: diff\n",
    "    for i in tqdm(font_sample.index):\n",
    "        fonts = train_df[train_df.font_label == i].path.to_list()\n",
    "\n",
    "        # choose same\n",
    "        for x1 in range(min_combine):\n",
    "            sample_1.extend([fonts[x1]] * len(range(x1 + 1, min_combine)))\n",
    "            for x2 in range(x1 + 1, min_combine):\n",
    "                sample_2.append(fonts[-x2])\n",
    "        labels.extend([0] * n_combine)\n",
    "\n",
    "        # random diff\n",
    "        diff_fonts = train_df[train_df != i].path.to_list()\n",
    "        sample_1.extend(random.choices(fonts, k = n_combine))\n",
    "        sample_2.extend(random.choices(diff_fonts, k = n_combine))\n",
    "        labels.extend([1] * n_combine)\n",
    "\n",
    "    print(len(sample_1), len(sample_2), len(labels))\n",
    "    df = pd.DataFrame({\n",
    "        'sample_1': sample_1,\n",
    "        'sample_2': sample_2,\n",
    "        'lables': labels\n",
    "    })\n",
    "\n",
    "    df.to_csv(out_file, index = False)\n",
    "    \n",
    "generate_pair('../data/test_font_all.csv', '../data/test_pair_font_all.csv')"
   ]
  },
  {
   "cell_type": "markdown",
   "id": "9bce4ef9",
   "metadata": {},
   "source": [
    "## stat"
   ]
  },
  {
   "cell_type": "code",
   "execution_count": 1,
   "id": "782e80a8",
   "metadata": {},
   "outputs": [],
   "source": [
    "import pandas as pd"
   ]
  },
  {
   "cell_type": "code",
   "execution_count": 2,
   "id": "18796390",
   "metadata": {},
   "outputs": [
    {
     "name": "stdout",
     "output_type": "stream",
     "text": [
      "<class 'pandas.core.frame.DataFrame'>\n",
      "RangeIndex: 1828764 entries, 0 to 1828763\n",
      "Data columns (total 3 columns):\n",
      " #   Column    Dtype \n",
      "---  ------    ----- \n",
      " 0   sample_1  object\n",
      " 1   sample_2  object\n",
      " 2   lables    int64 \n",
      "dtypes: int64(1), object(2)\n",
      "memory usage: 41.9+ MB\n"
     ]
    }
   ],
   "source": [
    "df = pd.read_csv('../data/train_pair_font_all.csv')\n",
    "df.info()"
   ]
  },
  {
   "cell_type": "code",
   "execution_count": 3,
   "id": "4ff5f103",
   "metadata": {},
   "outputs": [
    {
     "name": "stdout",
     "output_type": "stream",
     "text": [
      "<class 'pandas.core.frame.DataFrame'>\n",
      "RangeIndex: 44604 entries, 0 to 44603\n",
      "Data columns (total 3 columns):\n",
      " #   Column    Non-Null Count  Dtype \n",
      "---  ------    --------------  ----- \n",
      " 0   sample_1  44604 non-null  object\n",
      " 1   sample_2  44604 non-null  object\n",
      " 2   lables    44604 non-null  int64 \n",
      "dtypes: int64(1), object(2)\n",
      "memory usage: 1.0+ MB\n"
     ]
    }
   ],
   "source": [
    "df = pd.read_csv('../data/val_pair_font_all.csv')\n",
    "df.info()"
   ]
  },
  {
   "cell_type": "code",
   "execution_count": 4,
   "id": "96e0e43c",
   "metadata": {},
   "outputs": [
    {
     "name": "stdout",
     "output_type": "stream",
     "text": [
      "<class 'pandas.core.frame.DataFrame'>\n",
      "RangeIndex: 140184 entries, 0 to 140183\n",
      "Data columns (total 3 columns):\n",
      " #   Column    Non-Null Count   Dtype \n",
      "---  ------    --------------   ----- \n",
      " 0   sample_1  140184 non-null  object\n",
      " 1   sample_2  140184 non-null  object\n",
      " 2   lables    140184 non-null  int64 \n",
      "dtypes: int64(1), object(2)\n",
      "memory usage: 3.2+ MB\n"
     ]
    }
   ],
   "source": [
    "df = pd.read_csv('../data/test_pair_font_all.csv')\n",
    "df.info()"
   ]
  },
  {
   "cell_type": "code",
   "execution_count": null,
   "id": "7233f159",
   "metadata": {},
   "outputs": [],
   "source": []
  }
 ],
 "metadata": {
  "kernelspec": {
   "display_name": "Python 3",
   "language": "python",
   "name": "python3"
  },
  "language_info": {
   "codemirror_mode": {
    "name": "ipython",
    "version": 3
   },
   "file_extension": ".py",
   "mimetype": "text/x-python",
   "name": "python",
   "nbconvert_exporter": "python",
   "pygments_lexer": "ipython3",
   "version": "3.8.8"
  }
 },
 "nbformat": 4,
 "nbformat_minor": 5
}
