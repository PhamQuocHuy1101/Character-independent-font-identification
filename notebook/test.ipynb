{
 "cells": [
  {
   "cell_type": "code",
   "execution_count": 1,
   "id": "423cd04f",
   "metadata": {},
   "outputs": [],
   "source": [
    "import os\n",
    "import sys"
   ]
  },
  {
   "cell_type": "code",
   "execution_count": 2,
   "id": "6f36da6a",
   "metadata": {
    "scrolled": true
   },
   "outputs": [],
   "source": [
    "sys.path.append(os.path.split(os.getcwd())[0])"
   ]
  },
  {
   "cell_type": "code",
   "execution_count": 3,
   "id": "09bbe760",
   "metadata": {},
   "outputs": [],
   "source": [
    "import torch\n",
    "from PIL import Image\n",
    "from tqdm.auto import tqdm"
   ]
  },
  {
   "cell_type": "code",
   "execution_count": 4,
   "id": "4c2c7365",
   "metadata": {},
   "outputs": [],
   "source": [
    "from network import load_model\n",
    "import utils"
   ]
  },
  {
   "cell_type": "code",
   "execution_count": 5,
   "id": "14b3850c",
   "metadata": {},
   "outputs": [],
   "source": [
    "cf = utils.Config('../config/1flow.yaml')\n",
    "cf.device = 'cpu'\n",
    "\n",
    "model = load_model(cf.model)"
   ]
  },
  {
   "cell_type": "code",
   "execution_count": 6,
   "id": "1df9ebde",
   "metadata": {},
   "outputs": [
    {
     "name": "stdout",
     "output_type": "stream",
     "text": [
      "load state dict\n"
     ]
    }
   ],
   "source": [
    "checkpoint = torch.load('../checkpoint/model_1flow_0.925.pt', map_location = 'cpu')\n",
    "checkpoint_model = {k[7:]:v for k, v in checkpoint['model'].items()}\n",
    "model.load_state_dict(checkpoint_model)\n",
    "model.eval()\n",
    "print('load state dict')"
   ]
  },
  {
   "cell_type": "code",
   "execution_count": 11,
   "id": "5792959e",
   "metadata": {},
   "outputs": [],
   "source": [
    "from data.transform import to_tensor\n",
    "import pandas as pd\n",
    "from data.model_dataset import FontDataset\n",
    "from torch.utils.data import DataLoader\n",
    "\n",
    "val_df = pd.read_csv('../data/val_pair_font_all.csv')\n",
    "val_data = FontDataset('../../dataset/font_images_all', val_df.sample_1, val_df.sample_2, val_df.labels, to_tensor)\n",
    "# val_loader = DataLoader(val_data, batch_size = 8, shuffle = False)"
   ]
  },
  {
   "cell_type": "code",
   "execution_count": 18,
   "id": "7119526d",
   "metadata": {},
   "outputs": [
    {
     "data": {
      "application/vnd.jupyter.widget-view+json": {
       "model_id": "8d0a80283d43464e90c9cac5e03ccd05",
       "version_major": 2,
       "version_minor": 0
      },
      "text/plain": [
       "  0%|          | 0/44604 [00:00<?, ?it/s]"
      ]
     },
     "metadata": {},
     "output_type": "display_data"
    },
    {
     "name": "stderr",
     "output_type": "stream",
     "text": [
      "/home/pqhuy/anaconda3/lib/python3.8/site-packages/torch/nn/functional.py:1320: UserWarning: dropout2d: Received a 2-D input to dropout2d, which is deprecated and will result in an error in a future release. To retain the behavior and silence this warning, please use dropout instead. Note that dropout2d exists to provide channel-wise dropout on inputs with 2 spatial dimensions, a channel dimension, and an optional batch dimension (i.e. 3D or 4D inputs).\n",
      "  warnings.warn(warn_msg)\n"
     ]
    }
   ],
   "source": [
    "device = 'cpu'\n",
    "predict_label = []\n",
    "gt_label = []\n",
    "with torch.no_grad():\n",
    "    val_loss, val_accuracy = 0.0, 0.0\n",
    "    for i in tqdm(range(len(val_data))):\n",
    "        img_1, img_2, labels = val_data[i]\n",
    "\n",
    "        outputs = model(img_1.unsqueeze(0), img_2.unsqueeze(0))\n",
    "        y_predict = torch.softmax(outputs, dim = 1).argmax(dim = 1)\n",
    "        predict_label.append(y_predict.item())\n",
    "        \n",
    "        val_accuracy += torch.sum(y_predict == labels).item()\n",
    "        \n",
    "    val_accuracy /= len(val_data)"
   ]
  },
  {
   "cell_type": "code",
   "execution_count": 23,
   "id": "c46a0846",
   "metadata": {},
   "outputs": [],
   "source": [
    "with open('./predict_label.txt', 'w') as f:\n",
    "    f.write('\\t'.join([str(i) for i in predict_label]))"
   ]
  },
  {
   "cell_type": "markdown",
   "id": "b07b146b",
   "metadata": {},
   "source": [
    "## report"
   ]
  },
  {
   "cell_type": "code",
   "execution_count": 45,
   "id": "3656ab09",
   "metadata": {},
   "outputs": [],
   "source": [
    "import numpy as np\n",
    "import pandas as pd\n",
    "import matplotlib.pyplot as plt\n",
    "from sklearn.metrics import classification_report, confusion_matrix"
   ]
  },
  {
   "cell_type": "code",
   "execution_count": 10,
   "id": "ec72c568",
   "metadata": {},
   "outputs": [],
   "source": [
    "val_df = pd.read_csv('../data/val_pair_font_all.csv')\n",
    "with open('./predict_label.txt') as f:\n",
    "    predict_label = [int(i) for i in f.read().split('\\t')]"
   ]
  },
  {
   "cell_type": "code",
   "execution_count": 11,
   "id": "2ce7f281",
   "metadata": {
    "scrolled": true
   },
   "outputs": [
    {
     "data": {
      "text/plain": [
       "array([[20668,  1634],\n",
       "       [ 1708, 20594]])"
      ]
     },
     "execution_count": 11,
     "metadata": {},
     "output_type": "execute_result"
    }
   ],
   "source": [
    "confusion_matrix(val_df.labels, predict_label)"
   ]
  },
  {
   "cell_type": "code",
   "execution_count": 12,
   "id": "45d553c4",
   "metadata": {},
   "outputs": [
    {
     "name": "stdout",
     "output_type": "stream",
     "text": [
      "              precision    recall  f1-score   support\n",
      "\n",
      "           0       0.92      0.93      0.93     22302\n",
      "           1       0.93      0.92      0.92     22302\n",
      "\n",
      "    accuracy                           0.93     44604\n",
      "   macro avg       0.93      0.93      0.93     44604\n",
      "weighted avg       0.93      0.93      0.93     44604\n",
      "\n"
     ]
    }
   ],
   "source": [
    "print(classification_report(val_df.labels, predict_label))"
   ]
  },
  {
   "cell_type": "code",
   "execution_count": 24,
   "id": "e15a05ee",
   "metadata": {},
   "outputs": [],
   "source": [
    "false_df = val_df[val_df.labels != predict_label]"
   ]
  },
  {
   "cell_type": "code",
   "execution_count": 29,
   "id": "24e6aaa5",
   "metadata": {},
   "outputs": [],
   "source": [
    "diff = {}\n",
    "for sample_1, sample_2, label in false_df.values:\n",
    "    c1 = sample_1.split('/')[-1][0]\n",
    "    c2 = sample_2.split('/')[-1][0]\n",
    "    diff[f'{c1}_{c2}'] = 1 + diff.get(f'{c1}_{c2}', 0)"
   ]
  },
  {
   "cell_type": "code",
   "execution_count": 37,
   "id": "85a1bcf5",
   "metadata": {},
   "outputs": [
    {
     "data": {
      "text/plain": [
       "('7_y', 7)"
      ]
     },
     "execution_count": 37,
     "metadata": {},
     "output_type": "execute_result"
    }
   ],
   "source": [
    "max(diff, key = diff.get), diff['7_y']"
   ]
  },
  {
   "cell_type": "code",
   "execution_count": 38,
   "id": "01a86a93",
   "metadata": {},
   "outputs": [],
   "source": [
    "words = [\"A\", \"B\", \"C\", \"D\", \"E\", \"F\", \"G\", \"H\", \"I\", \"J\", \"K\", \"L\", \"M\", \"N\", \"O\", \"P\", \"Q\", \"R\", \"S\", \"T\", \"U\", \"V\", \"W\", \"X\", \"Y\", \"Z\", \"a\", \"b\", \"c\", \"d\", \"e\", \"f\", \"g\", \"h\", \"i\", \"j\", \"k\", \"l\", \"m\", \"n\", \"o\", \"p\", \"q\", \"r\", \"s\", \"t\", \"u\", \"v\", \"w\", \"x\", \"y\", \"z\", \"0\", \"1\", \"2\", \"3\", \"4\", \"5\", \"6\", \"7\", \"8\", \"9\"]"
   ]
  },
  {
   "cell_type": "code",
   "execution_count": 42,
   "id": "70ca18a8",
   "metadata": {},
   "outputs": [
    {
     "data": {
      "text/plain": [
       "array([[0., 0., 0., ..., 0., 0., 0.],\n",
       "       [0., 0., 0., ..., 0., 0., 0.],\n",
       "       [0., 0., 0., ..., 0., 0., 0.],\n",
       "       ...,\n",
       "       [0., 0., 0., ..., 0., 0., 0.],\n",
       "       [0., 0., 0., ..., 0., 0., 0.],\n",
       "       [0., 0., 0., ..., 0., 0., 0.]])"
      ]
     },
     "execution_count": 42,
     "metadata": {},
     "output_type": "execute_result"
    }
   ],
   "source": [
    "img = np.zeros((len(words), len(words)))\n",
    "img"
   ]
  },
  {
   "cell_type": "code",
   "execution_count": 44,
   "id": "f713b9cb",
   "metadata": {},
   "outputs": [],
   "source": [
    "for s1 in words:\n",
    "    for s2 in words:\n",
    "        i = words.index(s1)\n",
    "        j = words.index(s2)\n",
    "        img[i, j] += diff.get(f'{s1}_{s2}', 0)"
   ]
  },
  {
   "cell_type": "code",
   "execution_count": 48,
   "id": "b88199f2",
   "metadata": {},
   "outputs": [
    {
     "data": {
      "text/plain": [
       "<matplotlib.image.AxesImage at 0x7f9b3bba4ca0>"
      ]
     },
     "execution_count": 48,
     "metadata": {},
     "output_type": "execute_result"
    },
    {
     "data": {
      "image/png": "[encoded data removed]",
      "text/plain": [
       "<Figure size 432x288 with 1 Axes>"
      ]
     },
     "metadata": {
      "needs_background": "light"
     },
     "output_type": "display_data"
    }
   ],
   "source": [
    "plt.imshow(img)"
   ]
  }
 ],
 "metadata": {
  "kernelspec": {
   "display_name": "Python 3",
   "language": "python",
   "name": "python3"
  },
  "language_info": {
   "codemirror_mode": {
    "name": "ipython",
    "version": 3
   },
   "file_extension": ".py",
   "mimetype": "text/x-python",
   "name": "python",
   "nbconvert_exporter": "python",
   "pygments_lexer": "ipython3",
   "version": "3.8.8"
  }
 },
 "nbformat": 4,
 "nbformat_minor": 5
}
