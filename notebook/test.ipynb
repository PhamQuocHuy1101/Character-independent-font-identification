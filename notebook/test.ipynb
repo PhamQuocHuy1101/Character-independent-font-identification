{
 "cells": [
  {
   "cell_type": "code",
   "execution_count": 1,
   "id": "423cd04f",
   "metadata": {},
   "outputs": [],
   "source": [
    "import os\n",
    "import sys"
   ]
  },
  {
   "cell_type": "code",
   "execution_count": 2,
   "id": "6f36da6a",
   "metadata": {
    "scrolled": true
   },
   "outputs": [],
   "source": [
    "sys.path.append(os.path.split(os.getcwd())[0])"
   ]
  },
  {
   "cell_type": "code",
   "execution_count": 3,
   "id": "09bbe760",
   "metadata": {},
   "outputs": [],
   "source": [
    "import torch\n",
    "from PIL import Image\n",
    "from tqdm.auto import tqdm"
   ]
  },
  {
   "cell_type": "code",
   "execution_count": 4,
   "id": "4c2c7365",
   "metadata": {},
   "outputs": [],
   "source": [
    "from network import load_model\n",
    "import utils"
   ]
  },
  {
   "cell_type": "code",
   "execution_count": 5,
   "id": "14b3850c",
   "metadata": {},
   "outputs": [],
   "source": [
    "cf = utils.Config('../config/1flow.yaml')\n",
    "cf.device = 'cpu'\n",
    "\n",
    "model = load_model(cf.model)"
   ]
  },
  {
   "cell_type": "code",
   "execution_count": 6,
   "id": "1df9ebde",
   "metadata": {},
   "outputs": [
    {
     "name": "stdout",
     "output_type": "stream",
     "text": [
      "load state dict\n"
     ]
    }
   ],
   "source": [
    "checkpoint = torch.load('../checkpoint/model_1flow_0.925.pt', map_location = 'cpu')\n",
    "checkpoint_model = {k[7:]:v for k, v in checkpoint['model'].items()}\n",
    "model.load_state_dict(checkpoint_model)\n",
    "model.eval()\n",
    "print('load state dict')"
   ]
  },
  {
   "cell_type": "code",
   "execution_count": 11,
   "id": "5792959e",
   "metadata": {},
   "outputs": [],
   "source": [
    "from data.transform import to_tensor\n",
    "import pandas as pd\n",
    "from data.model_dataset import FontDataset\n",
    "from torch.utils.data import DataLoader\n",
    "\n",
    "val_df = pd.read_csv('../data/val_pair_font_all.csv')\n",
    "val_data = FontDataset('../../dataset/font_images_all', val_df.sample_1, val_df.sample_2, val_df.labels, to_tensor)\n",
    "# val_loader = DataLoader(val_data, batch_size = 8, shuffle = False)"
   ]
  },
  {
   "cell_type": "code",
   "execution_count": 18,
   "id": "7119526d",
   "metadata": {},
   "outputs": [
    {
     "data": {
      "application/vnd.jupyter.widget-view+json": {
       "model_id": "8d0a80283d43464e90c9cac5e03ccd05",
       "version_major": 2,
       "version_minor": 0
      },
      "text/plain": [
       "  0%|          | 0/44604 [00:00<?, ?it/s]"
      ]
     },
     "metadata": {},
     "output_type": "display_data"
    },
    {
     "name": "stderr",
     "output_type": "stream",
     "text": [
      "/home/pqhuy/anaconda3/lib/python3.8/site-packages/torch/nn/functional.py:1320: UserWarning: dropout2d: Received a 2-D input to dropout2d, which is deprecated and will result in an error in a future release. To retain the behavior and silence this warning, please use dropout instead. Note that dropout2d exists to provide channel-wise dropout on inputs with 2 spatial dimensions, a channel dimension, and an optional batch dimension (i.e. 3D or 4D inputs).\n",
      "  warnings.warn(warn_msg)\n"
     ]
    }
   ],
   "source": [
    "device = 'cpu'\n",
    "predict_label = []\n",
    "gt_label = []\n",
    "with torch.no_grad():\n",
    "    val_loss, val_accuracy = 0.0, 0.0\n",
    "    for i in tqdm(range(len(val_data))):\n",
    "        img_1, img_2, labels = val_data[i]\n",
    "\n",
    "        outputs = model(img_1.unsqueeze(0), img_2.unsqueeze(0))\n",
    "        y_predict = torch.softmax(outputs, dim = 1).argmax(dim = 1)\n",
    "        predict_label.append(y_predict.item())\n",
    "        \n",
    "        val_accuracy += torch.sum(y_predict == labels).item()\n",
    "        \n",
    "    val_accuracy /= len(val_data)"
   ]
  },
  {
   "cell_type": "code",
   "execution_count": 23,
   "id": "c46a0846",
   "metadata": {},
   "outputs": [],
   "source": [
    "with open('./predict_label.txt', 'w') as f:\n",
    "    f.write('\\t'.join([str(i) for i in predict_label]))"
   ]
  },
  {
   "cell_type": "markdown",
   "id": "b07b146b",
   "metadata": {},
   "source": [
    "## report"
   ]
  },
  {
   "cell_type": "code",
   "execution_count": 1,
   "id": "3656ab09",
   "metadata": {},
   "outputs": [],
   "source": [
    "import numpy as np\n",
    "import pandas as pd\n",
    "import matplotlib.pyplot as plt\n",
    "import seaborn as sns\n",
    "from sklearn.metrics import classification_report, confusion_matrix"
   ]
  },
  {
   "cell_type": "code",
   "execution_count": 2,
   "id": "ec72c568",
   "metadata": {},
   "outputs": [],
   "source": [
    "val_df = pd.read_csv('../data/val_pair_font_all.csv')\n",
    "with open('./predict_label.txt') as f:\n",
    "    predict_label = [int(i) for i in f.read().split('\\t')]"
   ]
  },
  {
   "cell_type": "code",
   "execution_count": 3,
   "id": "2ce7f281",
   "metadata": {
    "scrolled": true
   },
   "outputs": [
    {
     "data": {
      "text/plain": [
       "array([[20668,  1634],\n",
       "       [ 1708, 20594]])"
      ]
     },
     "execution_count": 3,
     "metadata": {},
     "output_type": "execute_result"
    }
   ],
   "source": [
    "confusion_matrix(val_df.labels, predict_label)"
   ]
  },
  {
   "cell_type": "code",
   "execution_count": 4,
   "id": "45d553c4",
   "metadata": {},
   "outputs": [
    {
     "name": "stdout",
     "output_type": "stream",
     "text": [
      "              precision    recall  f1-score   support\n",
      "\n",
      "           0       0.92      0.93      0.93     22302\n",
      "           1       0.93      0.92      0.92     22302\n",
      "\n",
      "    accuracy                           0.93     44604\n",
      "   macro avg       0.93      0.93      0.93     44604\n",
      "weighted avg       0.93      0.93      0.93     44604\n",
      "\n"
     ]
    }
   ],
   "source": [
    "print(classification_report(val_df.labels, predict_label))"
   ]
  },
  {
   "cell_type": "code",
   "execution_count": 5,
   "id": "e15a05ee",
   "metadata": {},
   "outputs": [],
   "source": [
    "false_df = val_df[val_df.labels != predict_label]"
   ]
  },
  {
   "cell_type": "code",
   "execution_count": 6,
   "id": "24e6aaa5",
   "metadata": {},
   "outputs": [],
   "source": [
    "diff = {}\n",
    "for sample_1, sample_2, label in false_df.values:\n",
    "    c1 = sample_1.split('/')[-1][0]\n",
    "    c2 = sample_2.split('/')[-1][0]\n",
    "    diff[f'{c1}_{c2}'] = 1 + diff.get(f'{c1}_{c2}', 0)"
   ]
  },
  {
   "cell_type": "code",
   "execution_count": 7,
   "id": "85a1bcf5",
   "metadata": {},
   "outputs": [
    {
     "data": {
      "text/plain": [
       "('7_y', 7)"
      ]
     },
     "execution_count": 7,
     "metadata": {},
     "output_type": "execute_result"
    }
   ],
   "source": [
    "max(diff, key = diff.get), diff['7_y']"
   ]
  },
  {
   "cell_type": "code",
   "execution_count": 8,
   "id": "01a86a93",
   "metadata": {},
   "outputs": [],
   "source": [
    "words = [\"A\", \"B\", \"C\", \"D\", \"E\", \"F\", \"G\", \"H\", \"I\", \"J\", \"K\", \"L\", \"M\", \"N\", \"O\", \"P\", \"Q\", \"R\", \"S\", \"T\", \"U\", \"V\", \"W\", \"X\", \"Y\", \"Z\", \"a\", \"b\", \"c\", \"d\", \"e\", \"f\", \"g\", \"h\", \"i\", \"j\", \"k\", \"l\", \"m\", \"n\", \"o\", \"p\", \"q\", \"r\", \"s\", \"t\", \"u\", \"v\", \"w\", \"x\", \"y\", \"z\", \"0\", \"1\", \"2\", \"3\", \"4\", \"5\", \"6\", \"7\", \"8\", \"9\"]"
   ]
  },
  {
   "cell_type": "code",
   "execution_count": 9,
   "id": "70ca18a8",
   "metadata": {},
   "outputs": [
    {
     "data": {
      "text/plain": [
       "array([[0., 0., 0., ..., 0., 0., 0.],\n",
       "       [0., 0., 0., ..., 0., 0., 0.],\n",
       "       [0., 0., 0., ..., 0., 0., 0.],\n",
       "       ...,\n",
       "       [0., 0., 0., ..., 0., 0., 0.],\n",
       "       [0., 0., 0., ..., 0., 0., 0.],\n",
       "       [0., 0., 0., ..., 0., 0., 0.]])"
      ]
     },
     "execution_count": 9,
     "metadata": {},
     "output_type": "execute_result"
    }
   ],
   "source": [
    "img = np.zeros((len(words), len(words)))\n",
    "img"
   ]
  },
  {
   "cell_type": "code",
   "execution_count": 10,
   "id": "f713b9cb",
   "metadata": {},
   "outputs": [],
   "source": [
    "for s1 in words:\n",
    "    for s2 in words:\n",
    "        i = words.index(s1)\n",
    "        j = words.index(s2)\n",
    "        img[i, j] += diff.get(f'{s1}_{s2}', 0)"
   ]
  },
  {
   "cell_type": "code",
   "execution_count": 18,
   "id": "b88199f2",
   "metadata": {},
   "outputs": [
    {
     "data": {
      "text/plain": [
       "<AxesSubplot:>"
      ]
     },
     "execution_count": 18,
     "metadata": {},
     "output_type": "execute_result"
    },
    {
     "data": {
      "image/png": "[encoded data removed]",
      "text/plain": [
       "<Figure size 1080x504 with 2 Axes>"
      ]
     },
     "metadata": {
      "needs_background": "light"
     },
     "output_type": "display_data"
    }
   ],
   "source": [
    "plt.figure(figsize=(15, 7))\n",
    "sns.heatmap(img)"
   ]
  },
  {
   "cell_type": "markdown",
   "id": "2e0c1233",
   "metadata": {},
   "source": [
    "# test classification"
   ]
  },
  {
   "cell_type": "code",
   "execution_count": 4,
   "id": "586ac09b",
   "metadata": {},
   "outputs": [],
   "source": [
    "# create support set\n",
    "df = pd.read_csv('../data/train_font_all.csv')"
   ]
  },
  {
   "cell_type": "code",
   "execution_count": 72,
   "id": "ff949c90",
   "metadata": {},
   "outputs": [],
   "source": [
    "support_df = df.groupby('font_label').sample(n=10)\n",
    "support_df.to_csv('../data/support_dataset.csv', index=False)"
   ]
  },
  {
   "cell_type": "code",
   "execution_count": 26,
   "id": "3873995f",
   "metadata": {},
   "outputs": [
    {
     "data": {
      "text/html": [
       "<div>\n",
       "<style scoped>\n",
       "    .dataframe tbody tr th:only-of-type {\n",
       "        vertical-align: middle;\n",
       "    }\n",
       "\n",
       "    .dataframe tbody tr th {\n",
       "        vertical-align: top;\n",
       "    }\n",
       "\n",
       "    .dataframe thead th {\n",
       "        text-align: right;\n",
       "    }\n",
       "</style>\n",
       "<table border=\"1\" class=\"dataframe\">\n",
       "  <thead>\n",
       "    <tr style=\"text-align: right;\">\n",
       "      <th></th>\n",
       "      <th>path</th>\n",
       "      <th>font_label</th>\n",
       "      <th>style_label</th>\n",
       "    </tr>\n",
       "  </thead>\n",
       "  <tbody>\n",
       "    <tr>\n",
       "      <th>61123</th>\n",
       "      <td>abeezee/regular/6_abeezee_regular.png</td>\n",
       "      <td>0</td>\n",
       "      <td>12</td>\n",
       "    </tr>\n",
       "    <tr>\n",
       "      <th>156325</th>\n",
       "      <td>abeezee/italic/9_abeezee_italic.png</td>\n",
       "      <td>0</td>\n",
       "      <td>11</td>\n",
       "    </tr>\n",
       "    <tr>\n",
       "      <th>19907</th>\n",
       "      <td>abeezee/regular/p_abeezee_regular.png</td>\n",
       "      <td>0</td>\n",
       "      <td>12</td>\n",
       "    </tr>\n",
       "    <tr>\n",
       "      <th>111914</th>\n",
       "      <td>abeezee/italic/C_abeezee_italic.png</td>\n",
       "      <td>0</td>\n",
       "      <td>11</td>\n",
       "    </tr>\n",
       "    <tr>\n",
       "      <th>8369</th>\n",
       "      <td>abeezee/italic/K_abeezee_italic.png</td>\n",
       "      <td>0</td>\n",
       "      <td>11</td>\n",
       "    </tr>\n",
       "    <tr>\n",
       "      <th>...</th>\n",
       "      <td>...</td>\n",
       "      <td>...</td>\n",
       "      <td>...</td>\n",
       "    </tr>\n",
       "    <tr>\n",
       "      <th>33750</th>\n",
       "      <td>zillaslabhighlight/regular/S_zillaslabhighligh...</td>\n",
       "      <td>1061</td>\n",
       "      <td>12</td>\n",
       "    </tr>\n",
       "    <tr>\n",
       "      <th>7571</th>\n",
       "      <td>zillaslabhighlight/bold/u_zillaslabhighlight_b...</td>\n",
       "      <td>1061</td>\n",
       "      <td>2</td>\n",
       "    </tr>\n",
       "    <tr>\n",
       "      <th>53713</th>\n",
       "      <td>zillaslabhighlight/bold/K_zillaslabhighlight_b...</td>\n",
       "      <td>1061</td>\n",
       "      <td>2</td>\n",
       "    </tr>\n",
       "    <tr>\n",
       "      <th>139279</th>\n",
       "      <td>zillaslabhighlight/bold/0_zillaslabhighlight_b...</td>\n",
       "      <td>1061</td>\n",
       "      <td>2</td>\n",
       "    </tr>\n",
       "    <tr>\n",
       "      <th>83620</th>\n",
       "      <td>zillaslabhighlight/regular/5_zillaslabhighligh...</td>\n",
       "      <td>1061</td>\n",
       "      <td>12</td>\n",
       "    </tr>\n",
       "  </tbody>\n",
       "</table>\n",
       "<p>5310 rows × 3 columns</p>\n",
       "</div>"
      ],
      "text/plain": [
       "                                                     path  font_label  \\\n",
       "61123               abeezee/regular/6_abeezee_regular.png           0   \n",
       "156325                abeezee/italic/9_abeezee_italic.png           0   \n",
       "19907               abeezee/regular/p_abeezee_regular.png           0   \n",
       "111914                abeezee/italic/C_abeezee_italic.png           0   \n",
       "8369                  abeezee/italic/K_abeezee_italic.png           0   \n",
       "...                                                   ...         ...   \n",
       "33750   zillaslabhighlight/regular/S_zillaslabhighligh...        1061   \n",
       "7571    zillaslabhighlight/bold/u_zillaslabhighlight_b...        1061   \n",
       "53713   zillaslabhighlight/bold/K_zillaslabhighlight_b...        1061   \n",
       "139279  zillaslabhighlight/bold/0_zillaslabhighlight_b...        1061   \n",
       "83620   zillaslabhighlight/regular/5_zillaslabhighligh...        1061   \n",
       "\n",
       "        style_label  \n",
       "61123            12  \n",
       "156325           11  \n",
       "19907            12  \n",
       "111914           11  \n",
       "8369             11  \n",
       "...             ...  \n",
       "33750            12  \n",
       "7571              2  \n",
       "53713             2  \n",
       "139279            2  \n",
       "83620            12  \n",
       "\n",
       "[5310 rows x 3 columns]"
      ]
     },
     "execution_count": 26,
     "metadata": {},
     "output_type": "execute_result"
    }
   ],
   "source": [
    "support_df"
   ]
  },
  {
   "cell_type": "code",
   "execution_count": 40,
   "id": "b24e9073",
   "metadata": {},
   "outputs": [
    {
     "data": {
      "text/html": [
       "<div>\n",
       "<style scoped>\n",
       "    .dataframe tbody tr th:only-of-type {\n",
       "        vertical-align: middle;\n",
       "    }\n",
       "\n",
       "    .dataframe tbody tr th {\n",
       "        vertical-align: top;\n",
       "    }\n",
       "\n",
       "    .dataframe thead th {\n",
       "        text-align: right;\n",
       "    }\n",
       "</style>\n",
       "<table border=\"1\" class=\"dataframe\">\n",
       "  <thead>\n",
       "    <tr style=\"text-align: right;\">\n",
       "      <th></th>\n",
       "      <th>path</th>\n",
       "      <th>font_label</th>\n",
       "      <th>style_label</th>\n",
       "    </tr>\n",
       "  </thead>\n",
       "  <tbody>\n",
       "    <tr>\n",
       "      <th>0</th>\n",
       "      <td>abeezee/regular/6_abeezee_regular.png</td>\n",
       "      <td>0</td>\n",
       "      <td>12</td>\n",
       "    </tr>\n",
       "    <tr>\n",
       "      <th>1</th>\n",
       "      <td>abeezee/italic/9_abeezee_italic.png</td>\n",
       "      <td>0</td>\n",
       "      <td>11</td>\n",
       "    </tr>\n",
       "    <tr>\n",
       "      <th>2</th>\n",
       "      <td>abeezee/regular/p_abeezee_regular.png</td>\n",
       "      <td>0</td>\n",
       "      <td>12</td>\n",
       "    </tr>\n",
       "    <tr>\n",
       "      <th>3</th>\n",
       "      <td>abeezee/italic/C_abeezee_italic.png</td>\n",
       "      <td>0</td>\n",
       "      <td>11</td>\n",
       "    </tr>\n",
       "    <tr>\n",
       "      <th>4</th>\n",
       "      <td>abeezee/italic/K_abeezee_italic.png</td>\n",
       "      <td>0</td>\n",
       "      <td>11</td>\n",
       "    </tr>\n",
       "    <tr>\n",
       "      <th>...</th>\n",
       "      <td>...</td>\n",
       "      <td>...</td>\n",
       "      <td>...</td>\n",
       "    </tr>\n",
       "    <tr>\n",
       "      <th>5305</th>\n",
       "      <td>zillaslabhighlight/regular/S_zillaslabhighligh...</td>\n",
       "      <td>1061</td>\n",
       "      <td>12</td>\n",
       "    </tr>\n",
       "    <tr>\n",
       "      <th>5306</th>\n",
       "      <td>zillaslabhighlight/bold/u_zillaslabhighlight_b...</td>\n",
       "      <td>1061</td>\n",
       "      <td>2</td>\n",
       "    </tr>\n",
       "    <tr>\n",
       "      <th>5307</th>\n",
       "      <td>zillaslabhighlight/bold/K_zillaslabhighlight_b...</td>\n",
       "      <td>1061</td>\n",
       "      <td>2</td>\n",
       "    </tr>\n",
       "    <tr>\n",
       "      <th>5308</th>\n",
       "      <td>zillaslabhighlight/bold/0_zillaslabhighlight_b...</td>\n",
       "      <td>1061</td>\n",
       "      <td>2</td>\n",
       "    </tr>\n",
       "    <tr>\n",
       "      <th>5309</th>\n",
       "      <td>zillaslabhighlight/regular/5_zillaslabhighligh...</td>\n",
       "      <td>1061</td>\n",
       "      <td>12</td>\n",
       "    </tr>\n",
       "  </tbody>\n",
       "</table>\n",
       "<p>5310 rows × 3 columns</p>\n",
       "</div>"
      ],
      "text/plain": [
       "                                                   path  font_label  \\\n",
       "0                 abeezee/regular/6_abeezee_regular.png           0   \n",
       "1                   abeezee/italic/9_abeezee_italic.png           0   \n",
       "2                 abeezee/regular/p_abeezee_regular.png           0   \n",
       "3                   abeezee/italic/C_abeezee_italic.png           0   \n",
       "4                   abeezee/italic/K_abeezee_italic.png           0   \n",
       "...                                                 ...         ...   \n",
       "5305  zillaslabhighlight/regular/S_zillaslabhighligh...        1061   \n",
       "5306  zillaslabhighlight/bold/u_zillaslabhighlight_b...        1061   \n",
       "5307  zillaslabhighlight/bold/K_zillaslabhighlight_b...        1061   \n",
       "5308  zillaslabhighlight/bold/0_zillaslabhighlight_b...        1061   \n",
       "5309  zillaslabhighlight/regular/5_zillaslabhighligh...        1061   \n",
       "\n",
       "      style_label  \n",
       "0              12  \n",
       "1              11  \n",
       "2              12  \n",
       "3              11  \n",
       "4              11  \n",
       "...           ...  \n",
       "5305           12  \n",
       "5306            2  \n",
       "5307            2  \n",
       "5308            2  \n",
       "5309           12  \n",
       "\n",
       "[5310 rows x 3 columns]"
      ]
     },
     "execution_count": 40,
     "metadata": {},
     "output_type": "execute_result"
    }
   ],
   "source": [
    "support_df = pd.read_csv('../data/support_dataset.csv')\n",
    "support_df"
   ]
  },
  {
   "cell_type": "code",
   "execution_count": 2,
   "id": "0657f362",
   "metadata": {},
   "outputs": [],
   "source": [
    "with open('../checkpoint/test.log', 'r') as f:\n",
    "    data = f.read()\n",
    "    data = [int(i) for i in data.split('\\t')[1:]]"
   ]
  },
  {
   "cell_type": "code",
   "execution_count": 3,
   "id": "a215dac0",
   "metadata": {},
   "outputs": [],
   "source": [
    "data = np.array(data)"
   ]
  },
  {
   "cell_type": "code",
   "execution_count": 4,
   "id": "0faf9a97",
   "metadata": {},
   "outputs": [
    {
     "data": {
      "text/plain": [
       "10620"
      ]
     },
     "execution_count": 4,
     "metadata": {},
     "output_type": "execute_result"
    }
   ],
   "source": [
    "len(data)"
   ]
  },
  {
   "cell_type": "code",
   "execution_count": 5,
   "id": "2514cdc7",
   "metadata": {},
   "outputs": [
    {
     "data": {
      "text/plain": [
       "1062"
      ]
     },
     "execution_count": 5,
     "metadata": {},
     "output_type": "execute_result"
    }
   ],
   "source": [
    "data = data.reshape(-1, 10)\n",
    "len(data)"
   ]
  },
  {
   "cell_type": "code",
   "execution_count": 6,
   "id": "34965fc6",
   "metadata": {},
   "outputs": [
    {
     "data": {
      "text/plain": [
       "array([0, 0, 0, ..., 0, 6, 0])"
      ]
     },
     "execution_count": 6,
     "metadata": {},
     "output_type": "execute_result"
    }
   ],
   "source": [
    "label = (data == 0).sum(axis = 1)\n",
    "label"
   ]
  },
  {
   "cell_type": "code",
   "execution_count": 7,
   "id": "764877b5",
   "metadata": {},
   "outputs": [
    {
     "data": {
      "text/plain": [
       "10"
      ]
     },
     "execution_count": 7,
     "metadata": {},
     "output_type": "execute_result"
    }
   ],
   "source": [
    "label.max()"
   ]
  },
  {
   "cell_type": "code",
   "execution_count": 10,
   "id": "91c22b8f",
   "metadata": {},
   "outputs": [
    {
     "data": {
      "text/plain": [
       "297806040"
      ]
     },
     "execution_count": 10,
     "metadata": {},
     "output_type": "execute_result"
    }
   ],
   "source": [
    "1062 * 10 * 28042"
   ]
  }
 ],
 "metadata": {
  "kernelspec": {
   "display_name": "Python 3",
   "language": "python",
   "name": "python3"
  },
  "language_info": {
   "codemirror_mode": {
    "name": "ipython",
    "version": 3
   },
   "file_extension": ".py",
   "mimetype": "text/x-python",
   "name": "python",
   "nbconvert_exporter": "python",
   "pygments_lexer": "ipython3",
   "version": "3.8.8"
  }
 },
 "nbformat": 4,
 "nbformat_minor": 5
}
