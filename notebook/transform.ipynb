{
 "cells": [
  {
   "cell_type": "code",
   "execution_count": 7,
   "id": "dcaf9f41",
   "metadata": {},
   "outputs": [],
   "source": [
    "from PIL import Image"
   ]
  },
  {
   "cell_type": "code",
   "execution_count": 31,
   "id": "97784b71",
   "metadata": {},
   "outputs": [],
   "source": [
    "import torch.nn as nn\n",
    "from torch.nn import functional\n",
    "from torchvision import transforms as T\n",
    "\n",
    "class CropSize(nn.Module):\n",
    "    def __init__(self, size):\n",
    "        super(CropSize, self).__init__()\n",
    "        self.size = size\n",
    "    \n",
    "    def forward(self, image):\n",
    "        '''\n",
    "            image: tensor image\n",
    "        '''\n",
    "        h, w = image.shape[-2:]\n",
    "        delta_x = self.size - w\n",
    "        delta_y = self.size - h\n",
    "        left = int(delta_x / 2)\n",
    "        right = delta_x - left\n",
    "        top = int(delta_y / 2)\n",
    "        bottom = delta_y - top\n",
    "        print(image.shape)\n",
    "        out = functional.pad(image, [left, right, top, bottom], mode='replicate')\n",
    "        print(out.shape)\n",
    "        return out\n",
    "\n",
    "\n",
    "    def __repr__(self) -> str:\n",
    "        return f'Padding with width x height: {self.size} x {self.size}'\n",
    "\n",
    "to_tensor = T.Compose([\n",
    "    T.ToTensor(),\n",
    "    CropSize(64),\n",
    "    T.Normalize(mean=[0.9, 0.9, 0.9], std=[0.1, 0.1, 0.1]),\n",
    "])\n",
    "\n",
    "augmenter = T.Compose([\n",
    "    T.ColorJitter(0.2, 0.1, 0.5, 0.2),\n",
    "    T.RandomGrayscale(0.2),\n",
    "    to_tensor\n",
    "])"
   ]
  },
  {
   "cell_type": "code",
   "execution_count": 32,
   "id": "f32247cb",
   "metadata": {},
   "outputs": [
    {
     "name": "stdout",
     "output_type": "stream",
     "text": [
      "torch.Size([3, 40, 64])\n",
      "torch.Size([3, 64, 64])\n"
     ]
    }
   ],
   "source": [
    "aimg = to_tensor(img)"
   ]
  },
  {
   "cell_type": "code",
   "execution_count": 30,
   "id": "5cfa5fcf",
   "metadata": {},
   "outputs": [
    {
     "data": {
      "image/png": "[encoded data removed]",
      "text/plain": [
       "<PIL.Image.Image image mode=RGB size=64x40 at 0x7F33F126B070>"
      ]
     },
     "execution_count": 30,
     "metadata": {},
     "output_type": "execute_result"
    }
   ],
   "source": [
    "img = Image.open('../../../dataset/font_images_all/trispace/light/b_trispace_light.png').convert('RGB')\n",
    "img"
   ]
  },
  {
   "cell_type": "code",
   "execution_count": null,
   "id": "52bbddc8",
   "metadata": {},
   "outputs": [],
   "source": []
  }
 ],
 "metadata": {
  "kernelspec": {
   "display_name": "Python 3",
   "language": "python",
   "name": "python3"
  },
  "language_info": {
   "codemirror_mode": {
    "name": "ipython",
    "version": 3
   },
   "file_extension": ".py",
   "mimetype": "text/x-python",
   "name": "python",
   "nbconvert_exporter": "python",
   "pygments_lexer": "ipython3",
   "version": "3.8.8"
  }
 },
 "nbformat": 4,
 "nbformat_minor": 5
}
